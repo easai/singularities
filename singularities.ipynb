{
 "cells": [
  {
   "cell_type": "markdown",
   "metadata": {},
   "source": [
    "# Singularities\n",
    "\n",
    "In complex analysis, singularities are points in the domain of a complex function where the function ceases to be analytic. \n",
    "\n",
    "### Isolated Singularities:\n",
    "An isolated singularity occurs when a point $\\alpha$ in the domain of $f(z)$ is not analytic at $\\alpha$ but is analytic in a neighborhood around $\\alpha$.\n",
    "For instance, $f(z) = {1\\over (1 - z)}$ has a singularity at $z = 1$.\n",
    "\n",
    "### Removable Singularities:\n",
    "Removable singularities correspond to poles of order 0. The function behaves like a pole, but without any principal part. \n",
    "\n",
    "Let us calcualate the case with \n",
    "$$\n",
    "f(z) =\n",
    "\\begin{cases}\n",
    "{\\sin(z)\\over z}  & z\\neq 0 \\\\\n",
    "1 & z=0\n",
    "\\end{cases}\n",
    "$$ \n",
    "\n",
    "It has an isolated singularity at $z=0$. This singularity is removable."
   ]
  },
  {
   "cell_type": "code",
   "execution_count": 51,
   "metadata": {},
   "outputs": [
    {
     "data": {
      "text/latex": [
       "$\\displaystyle 0$"
      ],
      "text/plain": [
       "0"
      ]
     },
     "execution_count": 51,
     "metadata": {},
     "output_type": "execute_result"
    }
   ],
   "source": [
    "from sympy import degree\n",
    "from sympy.abc import z\n",
    "from sympy import series, exp, I, sin, cos, log\n",
    "\n",
    "f = series(sin(z)/z, z, 0, 5)\n",
    "# calculate the degree of the lowest degree term \n",
    "degree(f.args[0], gen=z)"
   ]
  },
  {
   "cell_type": "code",
   "execution_count": 52,
   "metadata": {},
   "outputs": [
    {
     "data": {
      "text/latex": [
       "$\\displaystyle 1 - \\frac{z^{2}}{6} + \\frac{z^{4}}{120} - \\frac{z^{6}}{5040} + \\frac{z^{8}}{362880} + O\\left(z^{10}\\right)$"
      ],
      "text/plain": [
       "1 - z**2/6 + z**4/120 - z**6/5040 + z**8/362880 + O(z**10)"
      ]
     },
     "execution_count": 52,
     "metadata": {},
     "output_type": "execute_result"
    }
   ],
   "source": [
    "f = series(sin(z) / z, z, 0, 10)\n",
    "f"
   ]
  },
  {
   "cell_type": "markdown",
   "metadata": {},
   "source": [
    "### Poles:\n",
    "A pole is a singularity where the function approaches infinity.\n",
    "If there exists a positive integer $m$ such that \n",
    "$$\\lim_{{z \\to a}} (z - a)^m f(z) \\neq 0$$\n",
    "then $z = a$ is a pole of order $m$.\n",
    "For instance, $f(z) = {1\\over (z - 5)^3}$ has a pole of order 3 at $z = 5$.\n"
   ]
  },
  {
   "cell_type": "code",
   "execution_count": 53,
   "metadata": {},
   "outputs": [
    {
     "data": {
      "text/latex": [
       "$\\displaystyle 3$"
      ],
      "text/plain": [
       "3"
      ]
     },
     "execution_count": 53,
     "metadata": {},
     "output_type": "execute_result"
    }
   ],
   "source": [
    "f = 1 / (z - 5) ** 3\n",
    "f = f.expand()\n",
    "degree(f.args[0], gen=z)"
   ]
  },
  {
   "cell_type": "markdown",
   "metadata": {},
   "source": [
    "Let us calculate poles of:\n",
    "$$\n",
    "f(z)={\\cos(z)\\over z^2}\n",
    "$$\n",
    "The principal part of (f(z)) involves negative powers of (z): \n",
    "$$\n",
    " f(z) = \\frac{1}{z^2} \\left(1 - \\frac{z^2}{2!} + \\frac{z^4}{4!} - \\ldots\\right) \n",
    "$$\n",
    "Since the coefficient of the negative order of $z$ term is nonzero, we have a pole. The order of the pole is determined by the lowest power of $z$ in the principal part. For this function, it has a pole of order 2."
   ]
  },
  {
   "cell_type": "code",
   "execution_count": 54,
   "metadata": {},
   "outputs": [
    {
     "data": {
      "text/latex": [
       "$\\displaystyle \\frac{1}{z^{2}} - \\frac{1}{2} + \\frac{z^{2}}{24} - \\frac{z^{4}}{720} + O\\left(z^{5}\\right)$"
      ],
      "text/plain": [
       "z**(-2) - 1/2 + z**2/24 - z**4/720 + O(z**5)"
      ]
     },
     "execution_count": 54,
     "metadata": {},
     "output_type": "execute_result"
    }
   ],
   "source": [
    "series(cos(z) / z**2, z, 0, 5)\n"
   ]
  },
  {
   "cell_type": "markdown",
   "metadata": {},
   "source": [
    "\n",
    "### Isolated Essential Singularities:\n",
    "An essential singularity lacks a finite value of $m$ such that \n",
    "$$\n",
    "\\lim_{{z \\to a}} (z - a)^m f(z)\n",
    "$$ \n",
    "exists.\n",
    "\n",
    "What types of singularity does $f(z)=e^{1\\over z}$ have? The Laurent series expansion of $f(z)$ around $z = 0$ contains infinitely many terms with nonzero coefficients, indicating an essential singularity. An essential singularity occurs when a function behaves wildly near a point.\n",
    "For $f(z)$, the behavior near $z = 0$ is complex and cannot be expressed as a simple pole or removable singularity."
   ]
  },
  {
   "cell_type": "code",
   "execution_count": 55,
   "metadata": {},
   "outputs": [
    {
     "data": {
      "text/latex": [
       "$\\displaystyle \\frac{1}{24 z^{4}} + \\frac{1}{6 z^{3}} + \\frac{1}{2 z^{2}} + \\frac{1}{z} + 1 + O\\left(\\frac{1}{z^{5}}; z\\rightarrow \\infty\\right)$"
      ],
      "text/plain": [
       "1/(24*z**4) + 1/(6*z**3) + 1/(2*z**2) + 1/z + 1 + O(z**(-5), (z, oo))"
      ]
     },
     "execution_count": 55,
     "metadata": {},
     "output_type": "execute_result"
    }
   ],
   "source": [
    "f = exp(1 / z)\n",
    "g = series(exp(z), z, 0, 5)\n",
    "g.subs(z, 1 / z)"
   ]
  }
 ],
 "metadata": {
  "kernelspec": {
   "display_name": "Python 3",
   "language": "python",
   "name": "python3"
  },
  "language_info": {
   "codemirror_mode": {
    "name": "ipython",
    "version": 3
   },
   "file_extension": ".py",
   "mimetype": "text/x-python",
   "name": "python",
   "nbconvert_exporter": "python",
   "pygments_lexer": "ipython3",
   "version": "3.11.5"
  }
 },
 "nbformat": 4,
 "nbformat_minor": 2
}
